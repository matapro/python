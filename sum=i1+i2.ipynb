{
  "nbformat": 4,
  "nbformat_minor": 0,
  "metadata": {
    "colab": {
      "name": "sum=i1+i2",
      "version": "0.3.2",
      "provenance": [],
      "collapsed_sections": [],
      "include_colab_link": true
    },
    "kernelspec": {
      "name": "python3",
      "display_name": "Python 3"
    }
  },
  "cells": [
    {
      "cell_type": "markdown",
      "metadata": {
        "id": "view-in-github",
        "colab_type": "text"
      },
      "source": [
        "<a href=\"https://colab.research.google.com/github/matapro/python/blob/master/sum%3Di1%2Bi2.ipynb\" target=\"_parent\"><img src=\"https://colab.research.google.com/assets/colab-badge.svg\" alt=\"Open In Colab\"/></a>"
      ]
    },
    {
      "metadata": {
        "id": "-DUZqhuXsAAf",
        "colab_type": "code",
        "outputId": "520c9ec8-fc44-43da-cc02-3e11873f3912",
        "colab": {
          "base_uri": "https://localhost:8080/",
          "height": 87
        }
      },
      "cell_type": "code",
      "source": [
        "l=[2,2,2,4,4,9,9,16]\n",
        "s=18\n",
        "L=len(l)\n",
        "\n",
        "for i1 in range(0,L):\n",
        "  for i2 in range(i1+1,L):\n",
        "    if(l[i1]+l[i2]==s):\n",
        "      print(l[i1],l[i2])"
      ],
      "execution_count": 0,
      "outputs": [
        {
          "output_type": "stream",
          "text": [
            "2 16\n",
            "2 16\n",
            "2 16\n",
            "9 9\n"
          ],
          "name": "stdout"
        }
      ]
    }
  ]
}