{
  "nbformat": 4,
  "nbformat_minor": 0,
  "metadata": {
    "colab": {
      "name": "piramida",
      "version": "0.3.2",
      "provenance": [],
      "include_colab_link": true
    },
    "kernelspec": {
      "name": "python3",
      "display_name": "Python 3"
    }
  },
  "cells": [
    {
      "cell_type": "markdown",
      "metadata": {
        "id": "view-in-github",
        "colab_type": "text"
      },
      "source": [
        "<a href=\"https://colab.research.google.com/github/matapro/python/blob/master/piramida.ipynb\" target=\"_parent\"><img src=\"https://colab.research.google.com/assets/colab-badge.svg\" alt=\"Open In Colab\"/></a>"
      ]
    },
    {
      "metadata": {
        "id": "JO7u5X4F2Amo",
        "colab_type": "code",
        "colab": {
          "base_uri": "https://localhost:8080/",
          "height": 280
        },
        "outputId": "2249fd8c-61c8-4d5a-ccac-2abb9ae69274"
      },
      "cell_type": "code",
      "source": [
        "l1 = []\n",
        "for i in range(1,14):\n",
        "  l1.append('a'*i+'x'+'b'*i)\n",
        "print(l1)\n",
        "\n",
        "\n",
        "\n",
        "\n",
        "for e in l1:\n",
        "  print(e)\n",
        "\n",
        "  "
      ],
      "execution_count": 34,
      "outputs": [
        {
          "output_type": "stream",
          "text": [
            "['axb', 'aaxbb', 'aaaxbbb', 'aaaaxbbbb', 'aaaaaxbbbbb', 'aaaaaaxbbbbbb', 'aaaaaaaxbbbbbbb', 'aaaaaaaaxbbbbbbbb', 'aaaaaaaaaxbbbbbbbbb', 'aaaaaaaaaaxbbbbbbbbbb', 'aaaaaaaaaaaxbbbbbbbbbbb', 'aaaaaaaaaaaaxbbbbbbbbbbbb', 'aaaaaaaaaaaaaxbbbbbbbbbbbbb']\n",
            "axb\n",
            "aaxbb\n",
            "aaaxbbb\n",
            "aaaaxbbbb\n",
            "aaaaaxbbbbb\n",
            "aaaaaaxbbbbbb\n",
            "aaaaaaaxbbbbbbb\n",
            "aaaaaaaaxbbbbbbbb\n",
            "aaaaaaaaaxbbbbbbbbb\n",
            "aaaaaaaaaaxbbbbbbbbbb\n",
            "aaaaaaaaaaaxbbbbbbbbbbb\n",
            "aaaaaaaaaaaaxbbbbbbbbbbbb\n",
            "aaaaaaaaaaaaaxbbbbbbbbbbbbb\n"
          ],
          "name": "stdout"
        }
      ]
    }
  ]
}