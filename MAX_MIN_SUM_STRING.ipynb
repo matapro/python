{
  "nbformat": 4,
  "nbformat_minor": 0,
  "metadata": {
    "colab": {
      "name": "MAX MIN SUM STRING",
      "version": "0.3.2",
      "provenance": [],
      "collapsed_sections": [],
      "include_colab_link": true
    },
    "kernelspec": {
      "name": "python3",
      "display_name": "Python 3"
    }
  },
  "cells": [
    {
      "cell_type": "markdown",
      "metadata": {
        "id": "view-in-github",
        "colab_type": "text"
      },
      "source": [
        "<a href=\"https://colab.research.google.com/github/matapro/python/blob/master/MAX_MIN_SUM_STRING.ipynb\" target=\"_parent\"><img src=\"https://colab.research.google.com/assets/colab-badge.svg\" alt=\"Open In Colab\"/></a>"
      ]
    },
    {
      "metadata": {
        "colab_type": "code",
        "outputId": "b375a79d-7dc6-43df-cc18-ea5208c6ab77",
        "id": "4l5MZKhKo8QS",
        "colab": {
          "base_uri": "https://localhost:8080/",
          "height": 139
        }
      },
      "cell_type": "code",
      "source": [
        "s='1001 makicar 99'\n",
        "l=list(s)\n",
        "b=''\n",
        "i=0\n",
        "nl=['0','1','2','3','4','5','6','7','8','9']\n",
        "for i,x in enumerate(l):\n",
        "  if(x in nl):\n",
        "    b=b+x\n",
        "  else:\n",
        "    s=s[i::1]\n",
        "    break\n",
        "    \n",
        "print(b)\n",
        "print(s)\n",
        "b1=''\n",
        "l=list(s)\n",
        "\n",
        "\n",
        "for i,x in enumerate(l):\n",
        "  if(x not in nl):\n",
        "    b1=b1+x\n",
        "  else:\n",
        "    s=s[i::1]\n",
        "    break\n",
        "    \n",
        "print(b1)\n",
        "print(s)\n",
        "\n",
        "b2=''\n",
        "l=list(s)\n",
        "for i,x in enumerate(l):\n",
        "  if(x in nl):\n",
        "    b2=b2+x\n",
        "  else:\n",
        "    s=s[i::1]\n",
        "    break\n",
        "\n",
        "print(b)\n",
        "print(b2)\n",
        "sum=int(b)+int(b2)\n",
        "print(sum)\n",
        "\n"
      ],
      "execution_count": 56,
      "outputs": [
        {
          "output_type": "stream",
          "text": [
            "1001\n",
            " makicar 99\n",
            " makicar \n",
            "99\n",
            "1001\n",
            "99\n",
            "1100\n"
          ],
          "name": "stdout"
        }
      ]
    }
  ]
}