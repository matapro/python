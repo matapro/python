{
  "nbformat": 4,
  "nbformat_minor": 0,
  "metadata": {
    "colab": {
      "name": "CUDNA LISTA",
      "version": "0.3.2",
      "provenance": [],
      "collapsed_sections": [],
      "include_colab_link": true
    },
    "kernelspec": {
      "name": "python3",
      "display_name": "Python 3"
    }
  },
  "cells": [
    {
      "cell_type": "markdown",
      "metadata": {
        "id": "view-in-github",
        "colab_type": "text"
      },
      "source": [
        "<a href=\"https://colab.research.google.com/github/matapro/python/blob/master/CUDNA_LISTA.ipynb\" target=\"_parent\"><img src=\"https://colab.research.google.com/assets/colab-badge.svg\" alt=\"Open In Colab\"/></a>"
      ]
    },
    {
      "metadata": {
        "id": "Wc4IXxfzVgT8",
        "colab_type": "code",
        "colab": {
          "base_uri": "https://localhost:8080/",
          "height": 69
        },
        "outputId": "b7002e3d-c2df-4d19-c72a-44b49124448e"
      },
      "cell_type": "code",
      "source": [
        "ln = []\n",
        "l = [1,[2,3]*2]*3\n",
        "print(len(l))\n",
        "print(l)\n",
        "#[1, [2, 3, 2, 3], 1, [2, 3, 2, 3], 1, [2, 3, 2, 3]]\n",
        "for e in l:\n",
        "  if(isinstance(e, list)):\n",
        "    ln.extend(e)\n",
        "  else:  \n",
        "    ln.append(e)\n",
        "  \n",
        "print(ln)  \n",
        "\n",
        "\n"
      ],
      "execution_count": 44,
      "outputs": [
        {
          "output_type": "stream",
          "text": [
            "6\n",
            "[1, [2, 3, 2, 3], 1, [2, 3, 2, 3], 1, [2, 3, 2, 3]]\n",
            "[1, 2, 3, 2, 3, 1, 2, 3, 2, 3, 1, 2, 3, 2, 3]\n"
          ],
          "name": "stdout"
        }
      ]
    }
  ]
}