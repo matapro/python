{
  "nbformat": 4,
  "nbformat_minor": 0,
  "metadata": {
    "colab": {
      "name": "GODINE",
      "version": "0.3.2",
      "provenance": [],
      "include_colab_link": true
    },
    "kernelspec": {
      "name": "python3",
      "display_name": "Python 3"
    }
  },
  "cells": [
    {
      "cell_type": "markdown",
      "metadata": {
        "id": "view-in-github",
        "colab_type": "text"
      },
      "source": [
        "<a href=\"https://colab.research.google.com/github/matapro/python/blob/master/GODINE.ipynb\" target=\"_parent\"><img src=\"https://colab.research.google.com/assets/colab-badge.svg\" alt=\"Open In Colab\"/></a>"
      ]
    },
    {
      "metadata": {
        "id": "ypt6M0QSTaj_",
        "colab_type": "code",
        "colab": {
          "base_uri": "https://localhost:8080/",
          "height": 35
        },
        "outputId": "e03e0895-db08-41de-b741-943fc2e6fca7"
      },
      "cell_type": "code",
      "source": [
        "t = 41\n",
        "m = 46\n",
        "a = 13\n",
        "b = 11\n",
        "c = 9\n",
        "d = 6\n",
        "g=0\n",
        "for x in range (1,101):\n",
        "  m=m+x\n",
        "  t=t+x\n",
        "  a=a+x\n",
        "  b=b+x\n",
        "  c=c+x\n",
        "  d=d+x\n",
        "  if (m+t<a+b+c+d):\n",
        "    g=x\n",
        "    break\n",
        "print(g)    \n",
        "    \n",
        "\n",
        "\n"
      ],
      "execution_count": 7,
      "outputs": [
        {
          "output_type": "stream",
          "text": [
            "7\n"
          ],
          "name": "stdout"
        }
      ]
    }
  ]
}