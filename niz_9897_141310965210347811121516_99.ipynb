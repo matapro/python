{
  "nbformat": 4,
  "nbformat_minor": 0,
  "metadata": {
    "colab": {
      "name": "niz 9897...141310965210347811121516...99",
      "version": "0.3.2",
      "provenance": [],
      "include_colab_link": true
    },
    "kernelspec": {
      "name": "python3",
      "display_name": "Python 3"
    }
  },
  "cells": [
    {
      "cell_type": "markdown",
      "metadata": {
        "id": "view-in-github",
        "colab_type": "text"
      },
      "source": [
        "<a href=\"https://colab.research.google.com/github/matapro/python/blob/master/niz_9897_141310965210347811121516_99.ipynb\" target=\"_parent\"><img src=\"https://colab.research.google.com/assets/colab-badge.svg\" alt=\"Open In Colab\"/></a>"
      ]
    },
    {
      "metadata": {
        "id": "mvKTnJlayQb5",
        "colab_type": "code",
        "colab": {
          "base_uri": "https://localhost:8080/",
          "height": 55
        },
        "outputId": "9463c9c7-dd44-466a-a060-b1d5f10ce28c"
      },
      "cell_type": "code",
      "source": [
        "s='0'\n",
        "for x in range(1,100):\n",
        "  if (x%4==2):\n",
        "    s=str(x)+s\n",
        "  if (x%4==1):\n",
        "    s=str(x)+s\n",
        "  if (x%4==0):\n",
        "    s=s+str(x)\n",
        "  if (x%4==3):\n",
        "    s=s+str(x)  \n",
        "print(s)\n",
        " \n",
        "    \n",
        "  "
      ],
      "execution_count": 27,
      "outputs": [
        {
          "output_type": "stream",
          "text": [
            "9897949390898685828178777473706966656261585754535049464542413837343330292625222118171413109652103478111215161920232427283132353639404344474851525556596063646768717275767980838487889192959699\n"
          ],
          "name": "stdout"
        }
      ]
    }
  ]
}