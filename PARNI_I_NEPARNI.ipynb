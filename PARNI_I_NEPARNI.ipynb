{
  "nbformat": 4,
  "nbformat_minor": 0,
  "metadata": {
    "colab": {
      "name": "PARNI I NEPARNI",
      "version": "0.3.2",
      "provenance": [],
      "collapsed_sections": [],
      "include_colab_link": true
    },
    "kernelspec": {
      "name": "python3",
      "display_name": "Python 3"
    }
  },
  "cells": [
    {
      "cell_type": "markdown",
      "metadata": {
        "id": "view-in-github",
        "colab_type": "text"
      },
      "source": [
        "<a href=\"https://colab.research.google.com/github/matapro/python/blob/master/PARNI_I_NEPARNI.ipynb\" target=\"_parent\"><img src=\"https://colab.research.google.com/assets/colab-badge.svg\" alt=\"Open In Colab\"/></a>"
      ]
    },
    {
      "metadata": {
        "id": "v4HhADCPzK6w",
        "colab_type": "code",
        "colab": {
          "base_uri": "https://localhost:8080/",
          "height": 55
        },
        "outputId": "9627fe5a-c9c7-4d3a-b435-06efbd5b0c17"
      },
      "cell_type": "code",
      "source": [
        "s=''\n",
        "for x in range(0,100):\n",
        "  if (x%2!=0):\n",
        "    s=str(x)+s\n",
        "d=''\n",
        "for x in range(0,100):\n",
        "  if (x%2==0):\n",
        "    d=d+str(x)\n",
        "print(s+d)\n",
        "    "
      ],
      "execution_count": 11,
      "outputs": [
        {
          "output_type": "stream",
          "text": [
            "9997959391898785838179777573716967656361595755535149474543413937353331292725232119171513119753102468101214161820222426283032343638404244464850525456586062646668707274767880828486889092949698\n"
          ],
          "name": "stdout"
        }
      ]
    }
  ]
}