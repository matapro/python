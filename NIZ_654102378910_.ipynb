{
  "nbformat": 4,
  "nbformat_minor": 0,
  "metadata": {
    "colab": {
      "name": "NIZ ...654102378910...",
      "version": "0.3.2",
      "provenance": [],
      "collapsed_sections": [],
      "include_colab_link": true
    },
    "kernelspec": {
      "name": "python3",
      "display_name": "Python 3"
    }
  },
  "cells": [
    {
      "cell_type": "markdown",
      "metadata": {
        "id": "view-in-github",
        "colab_type": "text"
      },
      "source": [
        "<a href=\"https://colab.research.google.com/github/matapro/python/blob/master/NIZ_654102378910_.ipynb\" target=\"_parent\"><img src=\"https://colab.research.google.com/assets/colab-badge.svg\" alt=\"Open In Colab\"/></a>"
      ]
    },
    {
      "metadata": {
        "id": "RPUQsjC__ATs",
        "colab_type": "code",
        "outputId": "8dd56fea-a4f2-4b1d-e895-9f65dd8327ae",
        "colab": {
          "base_uri": "https://localhost:8080/",
          "height": 280
        }
      },
      "cell_type": "code",
      "source": [
        "s='0'\n",
        "b=0 #brojac smena\n",
        "bb=1 #brojac brojeva\n",
        "last = 100\n",
        "\n",
        "while(1):\n",
        "  \n",
        "  if(bb==last):\n",
        "    break\n",
        "  b=b+1  \n",
        "  if(b%2==0):  \n",
        "    for i in range(0,b):\n",
        "      s=s+str(bb)  \n",
        "      bb=bb+1\n",
        "      if(bb==last):\n",
        "        break      \n",
        "  else:  \n",
        "    for i in range(0,b):\n",
        "      s=str(bb)+s  \n",
        "      bb=bb+1\n",
        "      if(bb==last):\n",
        "        break\n",
        "  print(s)"
      ],
      "execution_count": 144,
      "outputs": [
        {
          "output_type": "stream",
          "text": [
            "10\n",
            "1023\n",
            "6541023\n",
            "654102378910\n",
            "1514131211654102378910\n",
            "1514131211654102378910161718192021\n",
            "282726252423221514131211654102378910161718192021\n",
            "2827262524232215141312116541023789101617181920212930313233343536\n",
            "4544434241403938372827262524232215141312116541023789101617181920212930313233343536\n",
            "454443424140393837282726252423221514131211654102378910161718192021293031323334353646474849505152535455\n",
            "6665646362616059585756454443424140393837282726252423221514131211654102378910161718192021293031323334353646474849505152535455\n",
            "6665646362616059585756454443424140393837282726252423221514131211654102378910161718192021293031323334353646474849505152535455676869707172737475767778\n",
            "919089888786858483828180796665646362616059585756454443424140393837282726252423221514131211654102378910161718192021293031323334353646474849505152535455676869707172737475767778\n",
            "9190898887868584838281807966656463626160595857564544434241403938372827262524232215141312116541023789101617181920212930313233343536464748495051525354556768697071727374757677789293949596979899\n"
          ],
          "name": "stdout"
        }
      ]
    }
  ]
}