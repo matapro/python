{
  "nbformat": 4,
  "nbformat_minor": 0,
  "metadata": {
    "colab": {
      "name": "N in line == sum",
      "version": "0.3.2",
      "provenance": [],
      "collapsed_sections": [],
      "include_colab_link": true
    },
    "kernelspec": {
      "name": "python3",
      "display_name": "Python 3"
    }
  },
  "cells": [
    {
      "cell_type": "markdown",
      "metadata": {
        "id": "view-in-github",
        "colab_type": "text"
      },
      "source": [
        "<a href=\"https://colab.research.google.com/github/matapro/python/blob/master/N_in_line_%3D%3D_sum.ipynb\" target=\"_parent\"><img src=\"https://colab.research.google.com/assets/colab-badge.svg\" alt=\"Open In Colab\"/></a>"
      ]
    },
    {
      "metadata": {
        "id": "WrqxuYIwQPQN",
        "colab_type": "code",
        "colab": {
          "base_uri": "https://localhost:8080/",
          "height": 35
        },
        "outputId": "abc3db53-0c57-4670-d6b9-1b095da95ab7"
      },
      "cell_type": "code",
      "source": [
        "l=[2,2,4,9]\n",
        "s=6\n",
        "def isp(l):\n",
        "  if (s-l[0]==l[1]):\n",
        "    return True\n",
        "  \n",
        "  if (s-l[0]==l[2]):\n",
        "    return True\n",
        "  \n",
        "  if (s-l[0]==l[3]):\n",
        "    return True\n",
        "  \n",
        "  if (s-l[1]==l[0]):\n",
        "    return True\n",
        "  \n",
        "  if (s-l[1]==l[2]):\n",
        "    return True\n",
        "  \n",
        "  if (s-l[1]==l[3]):\n",
        "    return True\n",
        "  \n",
        "  if (s-l[2]==l[0]):\n",
        "    return True\n",
        "  \n",
        "  if (s-l[2]==l[1]):\n",
        "    return True\n",
        "  \n",
        "  if (s-l[2]==l[3]):\n",
        "    return True\n",
        "  \n",
        "  if (s-l[3]==l[0]):\n",
        "    return True\n",
        "  \n",
        "  if (s-l[3]==l[1]):\n",
        "    return True\n",
        "  \n",
        "  if (s-l[3]==l[2]):\n",
        "    return True\n",
        "  else:\n",
        "    return False\n",
        "  \n",
        "\n",
        "print(isp(l))  \n",
        "  \n",
        "\n",
        "  \n",
        "  \n",
        " \n",
        "  \n"
      ],
      "execution_count": 20,
      "outputs": [
        {
          "output_type": "stream",
          "text": [
            "True\n"
          ],
          "name": "stdout"
        }
      ]
    }
  ]
}