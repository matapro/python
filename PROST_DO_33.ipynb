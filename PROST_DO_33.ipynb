{
  "nbformat": 4,
  "nbformat_minor": 0,
  "metadata": {
    "colab": {
      "name": "PROST DO 33",
      "version": "0.3.2",
      "provenance": [],
      "collapsed_sections": [],
      "include_colab_link": true
    },
    "kernelspec": {
      "name": "python3",
      "display_name": "Python 3"
    }
  },
  "cells": [
    {
      "cell_type": "markdown",
      "metadata": {
        "id": "view-in-github",
        "colab_type": "text"
      },
      "source": [
        "<a href=\"https://colab.research.google.com/github/matapro/python/blob/master/PROST_DO_33.ipynb\" target=\"_parent\"><img src=\"https://colab.research.google.com/assets/colab-badge.svg\" alt=\"Open In Colab\"/></a>"
      ]
    },
    {
      "metadata": {
        "id": "FqDN6HitH1mO",
        "colab_type": "code",
        "outputId": "0c12ef79-1981-458a-d5c4-531378e097ec",
        "colab": {
          "base_uri": "https://localhost:8080/",
          "height": 52
        }
      },
      "cell_type": "code",
      "source": [
        "def prost(n):\n",
        "  i2='p'\n",
        "  for x in range(2,n):\n",
        "    if(n%x==0):\n",
        "      i2='s'\n",
        "  return(i2)    \n",
        "\n",
        "#main program\n",
        "\n",
        "b=0\n",
        "l=[]\n",
        "\n",
        "#prolaz kroz sve brojeve od 2 do 33\n",
        "for i in range(2,34):\n",
        "  if('p'==prost(i)):\n",
        "    b=b+1\n",
        "    l.append(i)\n",
        "\n",
        "print(\"Ima ovoliko prostih brojeva: \", b)\n",
        "print(l)   \n",
        "\n",
        "\n"
      ],
      "execution_count": 14,
      "outputs": [
        {
          "output_type": "stream",
          "text": [
            "Ima ovoliko prostih brojeva:  11\n",
            "[2, 3, 5, 7, 11, 13, 17, 19, 23, 29, 31]\n"
          ],
          "name": "stdout"
        }
      ]
    }
  ]
}