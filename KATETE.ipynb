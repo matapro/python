{
  "nbformat": 4,
  "nbformat_minor": 0,
  "metadata": {
    "colab": {
      "name": "KATETE",
      "version": "0.3.2",
      "provenance": [],
      "collapsed_sections": [],
      "include_colab_link": true
    },
    "kernelspec": {
      "name": "python3",
      "display_name": "Python 3"
    }
  },
  "cells": [
    {
      "cell_type": "markdown",
      "metadata": {
        "id": "view-in-github",
        "colab_type": "text"
      },
      "source": [
        "<a href=\"https://colab.research.google.com/github/matapro/python/blob/master/KATETE.ipynb\" target=\"_parent\"><img src=\"https://colab.research.google.com/assets/colab-badge.svg\" alt=\"Open In Colab\"/></a>"
      ]
    },
    {
      "metadata": {
        "id": "nk4xnof5DS1J",
        "colab_type": "code",
        "outputId": "17d56aa4-1ed6-4301-8142-6d5bf76b149e",
        "colab": {
          "base_uri": "https://localhost:8080/",
          "height": 104
        }
      },
      "cell_type": "code",
      "source": [
        "import math\n",
        "k1 = int(input('prva kateta '))\n",
        "k2 = int(input('druga kateta '))\n",
        "h = math.sqrt(k1 * k1 + k2 * k2)\n",
        "print ('Hipotenuza' , h )\n",
        "o = k1+k1+h\n",
        "print(o)\n",
        "p = k1*k1/2\n",
        "print(p)\n"
      ],
      "execution_count": 6,
      "outputs": [
        {
          "output_type": "stream",
          "text": [
            "prva kateta 3\n",
            "druga kateta 4\n",
            "Hipotenuza 5.0\n",
            "11.0\n",
            "4.5\n"
          ],
          "name": "stdout"
        }
      ]
    }
  ]
}