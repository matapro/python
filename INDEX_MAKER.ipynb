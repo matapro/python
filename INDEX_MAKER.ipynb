{
  "nbformat": 4,
  "nbformat_minor": 0,
  "metadata": {
    "colab": {
      "name": "INDEX MAKER",
      "version": "0.3.2",
      "provenance": [],
      "collapsed_sections": [],
      "include_colab_link": true
    },
    "kernelspec": {
      "name": "python3",
      "display_name": "Python 3"
    }
  },
  "cells": [
    {
      "cell_type": "markdown",
      "metadata": {
        "id": "view-in-github",
        "colab_type": "text"
      },
      "source": [
        "<a href=\"https://colab.research.google.com/github/matapro/python/blob/master/INDEX_MAKER.ipynb\" target=\"_parent\"><img src=\"https://colab.research.google.com/assets/colab-badge.svg\" alt=\"Open In Colab\"/></a>"
      ]
    },
    {
      "metadata": {
        "id": "0FQFtstVzSt_",
        "colab_type": "code",
        "colab": {
          "base_uri": "https://localhost:8080/",
          "height": 35
        },
        "outputId": "60e28cee-6588-42e6-d7e5-865508d4c40d"
      },
      "cell_type": "code",
      "source": [
        "l1 = [1,5,8,11,-8,7,-9,-18]\n",
        "l4=[]\n",
        "\n",
        "for i,x in enumerate (l1):\n",
        "  if(i%2==1):\n",
        "    #in l4 add -x\n",
        "    l4.append(-x)\n",
        "  else:\n",
        "    #in l4 add x\n",
        "    l4.append(x)\n",
        "\n",
        "print(l4)    \n",
        "    \n",
        "  \n",
        " "
      ],
      "execution_count": 32,
      "outputs": [
        {
          "output_type": "stream",
          "text": [
            "[1, -5, 8, -11, -8, -7, -9, 18]\n"
          ],
          "name": "stdout"
        }
      ]
    },
    {
      "metadata": {
        "id": "DDyPAWiaAE4v",
        "colab_type": "code",
        "colab": {
          "base_uri": "https://localhost:8080/",
          "height": 35
        },
        "outputId": "4a04b804-2bbd-4bf5-a1ef-275cf7491e36"
      },
      "cell_type": "code",
      "source": [
        "import numpy as np\n",
        "l1=np.array([1,5,8,11,-8,7,-9,-18])\n",
        "l1[1::2]*=-1\n",
        "print(l1)"
      ],
      "execution_count": 43,
      "outputs": [
        {
          "output_type": "stream",
          "text": [
            "[  1  -5   8 -11  -8  -7  -9  18]\n"
          ],
          "name": "stdout"
        }
      ]
    },
    {
      "metadata": {
        "id": "vKfVjfVIBiS0",
        "colab_type": "code",
        "colab": {}
      },
      "cell_type": "code",
      "source": [
        ""
      ],
      "execution_count": 0,
      "outputs": []
    }
  ]
}