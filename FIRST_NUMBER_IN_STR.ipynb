{
  "nbformat": 4,
  "nbformat_minor": 0,
  "metadata": {
    "colab": {
      "name": "FIRST NUMBER IN STR",
      "version": "0.3.2",
      "provenance": [],
      "include_colab_link": true
    },
    "kernelspec": {
      "name": "python3",
      "display_name": "Python 3"
    }
  },
  "cells": [
    {
      "cell_type": "markdown",
      "metadata": {
        "id": "view-in-github",
        "colab_type": "text"
      },
      "source": [
        "<a href=\"https://colab.research.google.com/github/matapro/python/blob/master/FIRST_NUMBER_IN_STR.ipynb\" target=\"_parent\"><img src=\"https://colab.research.google.com/assets/colab-badge.svg\" alt=\"Open In Colab\"/></a>"
      ]
    },
    {
      "metadata": {
        "id": "KAn5S6IiY5kZ",
        "colab_type": "code",
        "colab": {
          "base_uri": "https://localhost:8080/",
          "height": 69
        },
        "outputId": "dddb3206-25ac-4fae-857f-b3b13c808435"
      },
      "cell_type": "code",
      "source": [
        "s='123a234'\n",
        "l=(list(s))\n",
        "nl=['0','1','2','3','4','5','6','7','8','9']\n",
        "for x in l:\n",
        "  if(x in nl):\n",
        "    print(x)\n",
        "  else:\n",
        "    break\n"
      ],
      "execution_count": 41,
      "outputs": [
        {
          "output_type": "stream",
          "text": [
            "1\n",
            "2\n",
            "3\n"
          ],
          "name": "stdout"
        }
      ]
    },
    {
      "metadata": {
        "id": "it1VNH26tLvP",
        "colab_type": "code",
        "colab": {
          "base_uri": "https://localhost:8080/",
          "height": 35
        },
        "outputId": "af010698-529b-4eda-b696-85fe406aede9"
      },
      "cell_type": "code",
      "source": [
        "s='123a234'\n",
        "l=(list(s))\n",
        "b=''\n",
        "nl=['0','1','2','3','4','5','6','7','8','9']\n",
        "for x in l:\n",
        "  if(x in nl):\n",
        "    b=b+x\n",
        "  else:\n",
        "    break\n",
        "    \n",
        "print(b)    "
      ],
      "execution_count": 42,
      "outputs": [
        {
          "output_type": "stream",
          "text": [
            "123\n"
          ],
          "name": "stdout"
        }
      ]
    }
  ]
}