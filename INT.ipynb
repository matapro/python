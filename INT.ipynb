{
  "nbformat": 4,
  "nbformat_minor": 0,
  "metadata": {
    "colab": {
      "name": "INT",
      "version": "0.3.2",
      "provenance": [],
      "collapsed_sections": [],
      "include_colab_link": true
    },
    "kernelspec": {
      "name": "python3",
      "display_name": "Python 3"
    }
  },
  "cells": [
    {
      "cell_type": "markdown",
      "metadata": {
        "id": "view-in-github",
        "colab_type": "text"
      },
      "source": [
        "<a href=\"https://colab.research.google.com/github/matapro/python/blob/master/INT.ipynb\" target=\"_parent\"><img src=\"https://colab.research.google.com/assets/colab-badge.svg\" alt=\"Open In Colab\"/></a>"
      ]
    },
    {
      "metadata": {
        "id": "S-4Nf_fNP2sI",
        "colab_type": "code",
        "colab": {
          "base_uri": "https://localhost:8080/",
          "height": 52
        },
        "outputId": "25c9c091-85da-4c56-9454-c6e82c397654"
      },
      "cell_type": "code",
      "source": [
        "s=int(input())\n",
        "b=s+2\n",
        "d=s-3\n",
        "z=s + b + d\n",
        "print(z)"
      ],
      "execution_count": 15,
      "outputs": [
        {
          "output_type": "stream",
          "text": [
            "8\n",
            "23\n"
          ],
          "name": "stdout"
        }
      ]
    },
    {
      "metadata": {
        "id": "02WKOvKpRxOE",
        "colab_type": "code",
        "colab": {
          "base_uri": "https://localhost:8080/",
          "height": 69
        },
        "outputId": "ef83b219-8c8a-4179-e94a-444a1de7960b"
      },
      "cell_type": "code",
      "source": [
        "sati=int(input())\n",
        "minuti=int(input())\n",
        "#preostalo vreme:sati i minuti\n",
        "o = (60 - minuti) + (24 - sati - 1) * 60\n",
        "print ('%d %d' % (o // 60, o % 60))"
      ],
      "execution_count": 19,
      "outputs": [
        {
          "output_type": "stream",
          "text": [
            "15\n",
            "43\n",
            "8 17\n"
          ],
          "name": "stdout"
        }
      ]
    }
  ]
}